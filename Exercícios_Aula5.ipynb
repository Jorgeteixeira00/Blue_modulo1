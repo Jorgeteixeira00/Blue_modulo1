{
  "nbformat": 4,
  "nbformat_minor": 0,
  "metadata": {
    "colab": {
      "name": "Exercícios - Aula5.ipynb",
      "provenance": [],
      "authorship_tag": "ABX9TyO3MP6SFeKioxNkrLI9jRJN",
      "include_colab_link": true
    },
    "kernelspec": {
      "name": "python3",
      "display_name": "Python 3"
    },
    "language_info": {
      "name": "python"
    }
  },
  "cells": [
    {
      "cell_type": "markdown",
      "metadata": {
        "id": "view-in-github",
        "colab_type": "text"
      },
      "source": [
        "<a href=\"https://colab.research.google.com/github/edumeirelles/Blue_modulo1/blob/main/Exerc%C3%ADcios_Aula5.ipynb\" target=\"_parent\"><img src=\"https://colab.research.google.com/assets/colab-badge.svg\" alt=\"Open In Colab\"/></a>"
      ]
    },
    {
      "cell_type": "markdown",
      "metadata": {
        "id": "7UkGHgwFKtml"
      },
      "source": [
        "Exercício 1: \"Faça um Programa que leia três números inteiros, em seguida mostre o maior e o menor deles.\""
      ]
    },
    {
      "cell_type": "code",
      "metadata": {
        "colab": {
          "base_uri": "https://localhost:8080/"
        },
        "id": "OS_uJdgBpvUS",
        "outputId": "151bb512-12ae-424d-a187-3e69d690259a"
      },
      "source": [
        "num1 = int(input('Digite o primeiro número inteiro: '))\n",
        "num2 = int(input('Digite o segundo número inteiro: '))\n",
        "num3 = int(input('Digite o terceiro número inteiro: '))\n",
        "\n",
        "if num1 > num2 and num1 > num3:\n",
        "  print(f'o maior número é {num1}')\n",
        "elif num2 > num3 and num2 > num1:\n",
        "  print(f'o maior número é {num2}')\n",
        "else:\n",
        "  print(f'o maior número é {num3}')\n",
        "\n",
        "if num1 < num2 and num1 < num3:\n",
        "  print(f'o menor número é {num1}')\n",
        "elif num2 < num3 and num2 < num1:\n",
        "  print(f'o menor número é {num2}')\n",
        "else:\n",
        "  print(f'o menor número é {num3}')"
      ],
      "execution_count": null,
      "outputs": [
        {
          "output_type": "stream",
          "text": [
            "Digite o primeiro número inteiro: 1\n",
            "Digite o segundo número inteiro: 2\n",
            "Digite o terceiro número inteiro: 3\n",
            "o maior número é 3\n",
            "o menor número é 1\n"
          ],
          "name": "stdout"
        }
      ]
    },
    {
      "cell_type": "markdown",
      "metadata": {
        "id": "cKy-u703KveP"
      },
      "source": [
        "Exercício 2 - Faça um programa que peça dois números e imprima o maior deles."
      ]
    },
    {
      "cell_type": "code",
      "metadata": {
        "colab": {
          "base_uri": "https://localhost:8080/"
        },
        "id": "DVBqeZvXKxLl",
        "outputId": "4d374f81-c2d8-4f4c-d183-8f3eaa62e1c8"
      },
      "source": [
        "num1 = float(input('Digite um número: '))\n",
        "num2 = float(input('Digite outro número: '))\n",
        "\n",
        "if num1 > num2:\n",
        "  print(f'O maior número é {num1}')\n",
        "else:\n",
        "  print(f'O maior número é {num2}')"
      ],
      "execution_count": 2,
      "outputs": [
        {
          "output_type": "stream",
          "text": [
            "Digite um número: 10\n",
            "Digite outro número: 15\n",
            "O maior número é 15.0\n"
          ],
          "name": "stdout"
        }
      ]
    },
    {
      "cell_type": "markdown",
      "metadata": {
        "id": "9qBgTk1KLeLY"
      },
      "source": [
        "Exercício 3 - Faça um script que peça um valor e mostre na tela se o valor é positivo ou negativo."
      ]
    },
    {
      "cell_type": "code",
      "metadata": {
        "colab": {
          "base_uri": "https://localhost:8080/"
        },
        "id": "tNa1TannLe3B",
        "outputId": "7c140a2a-b387-4cb3-e0bb-37e34c2652f7"
      },
      "source": [
        "num = float(input('Digite um número: '))\n",
        "\n",
        "if num > 0:\n",
        "  print('O número é positivo')\n",
        "else:\n",
        "  print('O número é negativo')"
      ],
      "execution_count": 5,
      "outputs": [
        {
          "output_type": "stream",
          "text": [
            "Digite um número: -20\n",
            "O número é negativo\n"
          ],
          "name": "stdout"
        }
      ]
    },
    {
      "cell_type": "markdown",
      "metadata": {
        "id": "V8Jr4aIWL8Vl"
      },
      "source": [
        "Exercício 4 - Crie um programa que verifique se uma letra digitada é \"F\" ou \"M\". Conforme a letra escrever: F - Feminino, M - Masculino, Sexo Inválido."
      ]
    },
    {
      "cell_type": "code",
      "metadata": {
        "colab": {
          "base_uri": "https://localhost:8080/"
        },
        "id": "KR6-zTQXMAbO",
        "outputId": "a41c8b14-fdd4-4a97-d4cc-cfff6f0b448c"
      },
      "source": [
        "sexo = input('Digite o seu sexo(F ou M): ')\n",
        "\n",
        "if sexo != 'M' and sexo != 'F':\n",
        "  print('Sexo Inválido')\n",
        "else:\n",
        "  if sexo == 'M':\n",
        "    print('M - Masculino')\n",
        "  else:\n",
        "    print('F - Feminino') "
      ],
      "execution_count": 9,
      "outputs": [
        {
          "output_type": "stream",
          "text": [
            "Digite o seu sexo(F ou M): D\n",
            "Sexo Inválido\n"
          ],
          "name": "stdout"
        }
      ]
    },
    {
      "cell_type": "markdown",
      "metadata": {
        "id": "DH9cv4koQFKI"
      },
      "source": [
        "Exercício 5 - Crie um programa em Python que peça a nota do aluno, que deve ser um float entre 0.00 e 10.0\n",
        "•\tSe a nota for menor que 6.0, deve exibir a nota F.\n",
        "•\tSe a nota for de 6.0 até 7.0, deve exibir a nota D.\n",
        "•\tSe a nota for entre 7.0 e 8.0, deve exibir a nota C.\n",
        "•\tSe a nota for entre 8.0 e 9.0, deve exibir a nota B.\n",
        "•\tPor fim, se for entre 9.0 e 10.0, deve exibir um belo de um A.\n"
      ]
    },
    {
      "cell_type": "code",
      "metadata": {
        "colab": {
          "base_uri": "https://localhost:8080/"
        },
        "id": "0Txbk1w8QGYC",
        "outputId": "dde4f366-a780-4605-b244-a7af46619e49"
      },
      "source": [
        "nota = float(input('Digite a nota: '))\n",
        "\n",
        "if nota >= 9:\n",
        "  print('Nota A')\n",
        "elif 9 > nota >= 8:\n",
        "  print('Nota B')\n",
        "elif 8 > nota >= 7:\n",
        "  print('Nota C')\n",
        "elif 7 > nota >= 6:\n",
        "  print('Nota D')\n",
        "else:\n",
        "  print('Nota F')\n"
      ],
      "execution_count": 23,
      "outputs": [
        {
          "output_type": "stream",
          "text": [
            "Digite a nota: 5\n",
            "Nota F\n"
          ],
          "name": "stdout"
        }
      ]
    },
    {
      "cell_type": "markdown",
      "metadata": {
        "id": "Od8gr-5pUI9K"
      },
      "source": [
        "Exercício 6 - Faça um Programa que verifique se uma letra digitada é vogal ou consoante."
      ]
    },
    {
      "cell_type": "code",
      "metadata": {
        "colab": {
          "base_uri": "https://localhost:8080/"
        },
        "id": "HAfDuiciUJz9",
        "outputId": "2f6625fd-f098-4c95-f115-eb46f4e1c224"
      },
      "source": [
        "letra = input('Digite uma letra: ')\n",
        "letra = letra.upper()\n",
        "\n",
        "if letra != 'A' and letra != 'E' and letra != 'I' and letra != 'O' and letra != 'U':\n",
        "  print('A letra é consoante')\n",
        "else:\n",
        "  print('A letra é vogal')"
      ],
      "execution_count": 37,
      "outputs": [
        {
          "output_type": "stream",
          "text": [
            "Digite uma letra: u\n",
            "A letra é vogal\n"
          ],
          "name": "stdout"
        }
      ]
    },
    {
      "cell_type": "markdown",
      "metadata": {
        "id": "ykw9I5kRbXGW"
      },
      "source": [
        "PROJETO 1\n",
        "Resultado da primeira/segunda aula em Python:\n",
        "•\tEscreva um programa que receba uma string digitada pelo usuário;\n",
        "•\tCaso a string seja \"medieval\", exiba no console \"espada\";\n",
        "•\tCaso contrário, se a string for \"futurista\", exiba no console \"sabre de luz\";\n",
        "•\tCaso contrário, exiba no console \"Tente novamente\"\n"
      ]
    },
    {
      "cell_type": "code",
      "metadata": {
        "colab": {
          "base_uri": "https://localhost:8080/"
        },
        "id": "ETh9FC6zbYP_",
        "outputId": "f840fcab-c0d4-4a8f-816b-544114ccd994"
      },
      "source": [
        "palavra = input('Digite uma palavra: ').lower()\n",
        "\n",
        "if palavra == 'medieval':\n",
        "  print('espada')\n",
        "elif palavra == 'futurista':\n",
        "  print('sabre de luz')\n",
        "else:\n",
        "  print('tente novamente')"
      ],
      "execution_count": 44,
      "outputs": [
        {
          "output_type": "stream",
          "text": [
            "Digite uma palavra: asd\n",
            "tente novamente\n"
          ],
          "name": "stdout"
        }
      ]
    },
    {
      "cell_type": "markdown",
      "metadata": {
        "id": "vUsgO7g7dedT"
      },
      "source": [
        "Continuação do PROJETO 1\n",
        "•\tEscreva um programa que receba um ataque de espada ou sabre digitada pelo usuário;\n",
        "•\tCaso o ataque seja \"espada\", exiba no console \"VOCÊ AINDA NÃO MATOU O CHEFÃO\";\n",
        "•\tCaso contrário, se o ataque for \"sabre\", exiba no console \"VOCÊ DERROTOU O CHEFÃO COM O SABRE DE LUZ\";\n",
        "•\tCaso contrário, exiba no console \"ATAQUE NOVAMENTE\"\n"
      ]
    },
    {
      "cell_type": "code",
      "metadata": {
        "colab": {
          "base_uri": "https://localhost:8080/"
        },
        "id": "hDrUmoT7dfH1",
        "outputId": "3268d739-0305-47b4-e96c-186c2a0cec23"
      },
      "source": [
        "arma = input('Digite uma palavra: ').lower()\n",
        "\n",
        "if arma == 'espada':\n",
        "  print('VOCÊ AINDA NÃO MATOU O CHEFÃO!')\n",
        "elif arma == 'sabre':\n",
        "  print('VOCÊ DERROTOU O CHEFÃO COM O SABRE DE LUZ')\n",
        "else:\n",
        "  print('ATAQUE NOVAMENTE')\n",
        "\n"
      ],
      "execution_count": 53,
      "outputs": [
        {
          "output_type": "stream",
          "text": [
            "Digite uma palavra: ESPADA\n",
            "VOCÊ AINDA NÃO MATOU O CHEFÃO!\n"
          ],
          "name": "stdout"
        }
      ]
    },
    {
      "cell_type": "markdown",
      "metadata": {
        "id": "4Kr0aHgdfS6d"
      },
      "source": [
        "DESAFIO - As empresas @.com resolveram dar um aumento de salário aos seus colaboradores e lhe contrataram para desenvolver o programa que calculará os reajustes.\n",
        "\n",
        "Faça um programa que recebe o salário de um colaborador e o reajuste segundo o seguinte critério, baseado no salário atual:\n",
        "•\tsalários até R$ 280,00 (incluindo) : aumento de 20%\n",
        "•\tsalários entre R$ 280,00 e R$ 700,00 : aumento de 15%\n",
        "•\tsalários entre R$ 700,00 e R$ 1500,00 : aumento de 10%\n",
        "•\tsalários de R$ 1500,00 em diante : aumento de 5%\n",
        "Após o aumento ser realizado, informe na tela:\n",
        "•\to salário antes do reajuste;\n",
        "•\to percentual de aumento aplicado;\n",
        "•\to valor do aumento;\n",
        "•\to novo salário, após o aumento.\"\n"
      ]
    },
    {
      "cell_type": "code",
      "metadata": {
        "colab": {
          "base_uri": "https://localhost:8080/"
        },
        "id": "UTGPqhBtfUpv",
        "outputId": "0b76164d-f795-4fd5-fcd4-3111f343f46c"
      },
      "source": [
        "salario = input('Digite o seu salário: ').replace(',','.')\n",
        "salario = float(salario)\n",
        "\n",
        "if salario <= 280:\n",
        "  ajuste = 0.2\n",
        "elif 280 < salario <= 700:\n",
        "  ajuste = 0.15\n",
        "elif 700 < salario <= 1500:\n",
        "  ajuste = 0.1\n",
        "else:\n",
        "  ajuste = 0.05\n",
        "\n",
        "print(f'Salário anterior: R$ {salario:.2f}\\nAjuste: {ajuste*100:.2f}%\\nValor do aumento: {ajuste*salario:.2f}\\nNovo Salário: R$ {salario*(1+ajuste):.2f}')"
      ],
      "execution_count": 64,
      "outputs": [
        {
          "output_type": "stream",
          "text": [
            "Digite o seu salário: 1750\n",
            "Salário anterior: R$ 1750.00\n",
            "Ajuste: 5.00%\n",
            "Valor do aumento: 87.50\n",
            "Novo Salário: R$ 1837.50\n"
          ],
          "name": "stdout"
        }
      ]
    }
  ]
}