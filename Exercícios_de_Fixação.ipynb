{
  "nbformat": 4,
  "nbformat_minor": 0,
  "metadata": {
    "colab": {
      "name": "Exercícios de Fixação.ipynb",
      "provenance": [],
      "authorship_tag": "ABX9TyOZCDyMNruJlpV4VfzYRi8b",
      "include_colab_link": true
    },
    "kernelspec": {
      "name": "python3",
      "display_name": "Python 3"
    },
    "language_info": {
      "name": "python"
    }
  },
  "cells": [
    {
      "cell_type": "markdown",
      "metadata": {
        "id": "view-in-github",
        "colab_type": "text"
      },
      "source": [
        "<a href=\"https://colab.research.google.com/github/edumeirelles/Blue_modulo1/blob/main/Exerc%C3%ADcios_de_Fixa%C3%A7%C3%A3o.ipynb\" target=\"_parent\"><img src=\"https://colab.research.google.com/assets/colab-badge.svg\" alt=\"Open In Colab\"/></a>"
      ]
    },
    {
      "cell_type": "markdown",
      "metadata": {
        "id": "Qtt9H3_F3Q1L"
      },
      "source": [
        "Exercícios de Fixação - Aula 4"
      ]
    },
    {
      "cell_type": "markdown",
      "metadata": {
        "id": "0I4Dum283Zvk"
      },
      "source": [
        "1.Faça um Programa que mostre a mensagem \"Alo mundo\" na tela."
      ]
    },
    {
      "cell_type": "code",
      "metadata": {
        "colab": {
          "base_uri": "https://localhost:8080/"
        },
        "id": "Bl4eyMdt3MNE",
        "outputId": "babb8a3d-caf9-4230-bd3e-6afc969f3183"
      },
      "source": [
        "print(\"Olá Mundo!\")"
      ],
      "execution_count": null,
      "outputs": [
        {
          "output_type": "stream",
          "text": [
            "Olá Mundo!\n"
          ],
          "name": "stdout"
        }
      ]
    },
    {
      "cell_type": "markdown",
      "metadata": {
        "id": "ceUO8KZm3f6Q"
      },
      "source": [
        "2. Faça um Programa que peça um número e então mostre a mensagem O número informado foi [número]."
      ]
    },
    {
      "cell_type": "code",
      "metadata": {
        "colab": {
          "base_uri": "https://localhost:8080/"
        },
        "id": "4WbC9r3R3ewo",
        "outputId": "5d8ec5bc-fa8b-4f2c-dfb8-e453d39f6fd3"
      },
      "source": [
        "num = int(input('Digite um número: '))\n",
        "print(f'O número informado foi {num}')"
      ],
      "execution_count": null,
      "outputs": [
        {
          "output_type": "stream",
          "text": [
            "Digite um número: 20\n",
            "O número informado foi 20\n"
          ],
          "name": "stdout"
        }
      ]
    },
    {
      "cell_type": "markdown",
      "metadata": {
        "id": "kZdpY4xK4BwJ"
      },
      "source": [
        "3. Faça um Programa que peça dois números e imprima a soma."
      ]
    },
    {
      "cell_type": "code",
      "metadata": {
        "colab": {
          "base_uri": "https://localhost:8080/"
        },
        "id": "d-V6Nbj84Gv-",
        "outputId": "5d619701-769b-4426-df59-8854c3a8ace5"
      },
      "source": [
        "num1 = int(input('Digite um número: '))\n",
        "num2 = int(input('Digite outro número: '))\n",
        "soma = num1 + num2\n",
        "print(f'Soma = {soma}')"
      ],
      "execution_count": null,
      "outputs": [
        {
          "output_type": "stream",
          "text": [
            "Digite um número: 10\n",
            "Digite outro número: 20\n",
            "Soma = 30\n"
          ],
          "name": "stdout"
        }
      ]
    },
    {
      "cell_type": "markdown",
      "metadata": {
        "id": "jNUHOtxP4v74"
      },
      "source": [
        "4. Faça um Programa que peça as 4 notas bimestrais e mostre a média."
      ]
    },
    {
      "cell_type": "code",
      "metadata": {
        "colab": {
          "base_uri": "https://localhost:8080/"
        },
        "id": "8PYslUBk4yhM",
        "outputId": "28f5e428-bc7c-4f5f-bfab-a1b780653c8b"
      },
      "source": [
        "bim1 = float(input('Digite a nota do primeiro bimestre: '))\n",
        "bim2 = float(input('Digite a nota do segundo bimestre: '))\n",
        "bim3 = float(input('Digite a nota do terceiro bimestre: '))\n",
        "bim4 = float(input('Digite a nota do quarto bimestre: '))\n",
        "media = (bim1 + bim2 + bim3 + bim4) / 4\n",
        "print(f'Média = {media:.1f}')"
      ],
      "execution_count": null,
      "outputs": [
        {
          "output_type": "stream",
          "text": [
            "Digite a nota do primeiro bimestre: 6.2\n",
            "Digite a nota do segundo bimestre: 5.9\n",
            "Digite a nota do terceiro bimestre: 4.3\n",
            "Digite a nota do quarto bimestre: 7.3\n",
            "Média = 5.9\n"
          ],
          "name": "stdout"
        }
      ]
    },
    {
      "cell_type": "markdown",
      "metadata": {
        "id": "lKDGfVHO79LR"
      },
      "source": [
        "5. Faça um Programa que converta metros para centímetros."
      ]
    },
    {
      "cell_type": "code",
      "metadata": {
        "colab": {
          "base_uri": "https://localhost:8080/"
        },
        "id": "WwOnnLfq7-1N",
        "outputId": "1af94c4b-ed74-49f5-b547-e04e343a1136"
      },
      "source": [
        "tam_m = float(input('Digite o tamanho em metros: '))\n",
        "tam_cm = tam_m * 100\n",
        "print(f'Tamanho em centímetros: {tam_cm:.2f}')"
      ],
      "execution_count": null,
      "outputs": [
        {
          "output_type": "stream",
          "text": [
            "Digite o tamanho em metros: 0.56\n",
            "Tamanho em centímetros: 56.00\n"
          ],
          "name": "stdout"
        }
      ]
    },
    {
      "cell_type": "markdown",
      "metadata": {
        "id": "ANChPrIW-OCe"
      },
      "source": [
        "6. Faça um Programa que peça o raio de um círculo, calcule e mostre sua área."
      ]
    },
    {
      "cell_type": "code",
      "metadata": {
        "colab": {
          "base_uri": "https://localhost:8080/"
        },
        "id": "zZqnIIcz-Uhz",
        "outputId": "d402ed92-cc94-46a4-dd3d-3d3767104179"
      },
      "source": [
        "import math\n",
        "r = float(input('Digite o raio do círculo: '))\n",
        "area = (r**2) * math.pi\n",
        "print(f'Área = {area:.2f} ')"
      ],
      "execution_count": null,
      "outputs": [
        {
          "output_type": "stream",
          "text": [
            "Digite o raio do círculo: 50\n",
            "Área = 7853.98 \n"
          ],
          "name": "stdout"
        }
      ]
    },
    {
      "cell_type": "markdown",
      "metadata": {
        "id": "KNG6Xu2rITM4"
      },
      "source": [
        "7. Faça um Programa que calcule a área de um quadrado, em seguida mostre o dobro desta área para o usuário."
      ]
    },
    {
      "cell_type": "code",
      "metadata": {
        "colab": {
          "base_uri": "https://localhost:8080/"
        },
        "id": "vel4Uf4JIbmS",
        "outputId": "a15e662c-395b-4c68-daef-0e8d0c5e9263"
      },
      "source": [
        "lado = float(input('Digite o lado do quadrado: '))\n",
        "area = lado ** 2\n",
        "dobro_area = area * 2\n",
        "print(f'O dobro da área é {dobro_area:.2f}!')"
      ],
      "execution_count": null,
      "outputs": [
        {
          "output_type": "stream",
          "text": [
            "Digite o lado do quadrado: 20\n",
            "O dobro da área é 800.00!\n"
          ],
          "name": "stdout"
        }
      ]
    },
    {
      "cell_type": "markdown",
      "metadata": {
        "id": "5n1zn2YhYH0f"
      },
      "source": [
        "8. Faça um Programa que pergunte quanto você ganha por hora e o número de horas trabalhadas no mês. Calcule e mostre o total do seu salário no referido mês."
      ]
    },
    {
      "cell_type": "code",
      "metadata": {
        "colab": {
          "base_uri": "https://localhost:8080/"
        },
        "id": "JRFdQRTjYKcp",
        "outputId": "18f62016-dd29-45e5-ce5f-f802107f26de"
      },
      "source": [
        "valor_hora = float(input('Quanto é o valor da sua hora trabalhada?: '))\n",
        "qtde_horas = float(input('Quantas horas você trabalha por mês?: '))\n",
        "salario = valor_hora * qtde_horas\n",
        "print(f'O seu salário mensal é {salario:.2f}'+'.')"
      ],
      "execution_count": null,
      "outputs": [
        {
          "output_type": "stream",
          "text": [
            "Quanto é o valor da sua hora trabalhada?: 8.15\n",
            "Quantas horas você trabalha por mês?: 200\n",
            "O seu salário mensal é 1630.00.\n"
          ],
          "name": "stdout"
        }
      ]
    },
    {
      "cell_type": "markdown",
      "metadata": {
        "id": "jtJ7oaJ1ZYcO"
      },
      "source": [
        "9. Faça um Programa que peça a temperatura em graus Fahrenheit, transforme e mostre a temperatura em graus Celsius.\n",
        "C = 5 * ((F-32) / 9)."
      ]
    },
    {
      "cell_type": "code",
      "metadata": {
        "colab": {
          "base_uri": "https://localhost:8080/"
        },
        "id": "OhF_fnc2Zbsm",
        "outputId": "8ecb421a-32e0-4503-a8bd-ebbf6e25eb1c"
      },
      "source": [
        "f = float(input('Temperatura em Fahrenheit: '))\n",
        "c = (f-32) * 5/9\n",
        "print(f'A temperatura em Celcius é {c:.1f}')"
      ],
      "execution_count": null,
      "outputs": [
        {
          "output_type": "stream",
          "text": [
            "Temperatura em Fahrenheit: 1000\n",
            "A temperatura em Celcius é 537.8\n"
          ],
          "name": "stdout"
        }
      ]
    },
    {
      "cell_type": "markdown",
      "metadata": {
        "id": "HexpUVTfbQCs"
      },
      "source": [
        "10. Faça um Programa que peça a temperatura em graus Celsius, transforme e mostre em graus Fahrenheit.\n"
      ]
    },
    {
      "cell_type": "code",
      "metadata": {
        "colab": {
          "base_uri": "https://localhost:8080/"
        },
        "id": "cB5XQ7EybUW1",
        "outputId": "c4d71bfd-b5a8-4f1c-ede7-58080437a82f"
      },
      "source": [
        "c = float(input('Temperatura em Celcius: '))\n",
        "f = (c*9/5) + 32\n",
        "print(f'A temperatura em Celcius é {f:.1f}')"
      ],
      "execution_count": null,
      "outputs": [
        {
          "output_type": "stream",
          "text": [
            "Temperatura em Celcius: 40\n",
            "A temperatura em Celcius é 104.0\n"
          ],
          "name": "stdout"
        }
      ]
    },
    {
      "cell_type": "markdown",
      "metadata": {
        "id": "epG-aAxdc4KC"
      },
      "source": [
        "11. Faça um Programa que peça 2 números inteiros e um número real. Calcule e mostre:\n",
        "o produto do dobro do primeiro com metade do segundo .\n",
        "a soma do triplo do primeiro com o terceiro.\n",
        "o terceiro elevado ao cubo."
      ]
    },
    {
      "cell_type": "code",
      "metadata": {
        "colab": {
          "base_uri": "https://localhost:8080/"
        },
        "id": "iiBNMdACc8x6",
        "outputId": "e52d21ca-01e0-46a7-9296-e0fa2c9fd632"
      },
      "source": [
        "int1 = int(input('Digite um número inteiro: '))\n",
        "int2 = int(input('Digite outro número inteiro: '))\n",
        "real = float(input('Digite um número real: '))\n",
        "res1 = (int1*2)*(int2/2)\n",
        "res2 = (int2*3) + real\n",
        "res3 = real ** 3\n",
        "print(f'Resulatdo 1 = {res1:.2f}')\n",
        "print(f'Resultado 2 = {res2:.2f}')\n",
        "print(f'Resultado 3 = {res3:.2f}')"
      ],
      "execution_count": null,
      "outputs": [
        {
          "output_type": "stream",
          "text": [
            "Digite um número inteiro: 10\n",
            "Digite outro número inteiro: 20\n",
            "Digite um número real: 5.45\n",
            "Resulatdo 1 = 200.00\n",
            "Resultado 2 = 65.45\n",
            "Resultado 3 = 161.88\n"
          ],
          "name": "stdout"
        }
      ]
    },
    {
      "cell_type": "markdown",
      "metadata": {
        "id": "idfwAp2yipOG"
      },
      "source": [
        "12. Tendo como dados de entrada a altura de uma pessoa, construa um algoritmo que calcule seu peso ideal, usando a seguinte fórmula: (72.7*altura) - 58"
      ]
    },
    {
      "cell_type": "code",
      "metadata": {
        "colab": {
          "base_uri": "https://localhost:8080/"
        },
        "id": "vY3cDW92i3ah",
        "outputId": "aaf63de8-a510-4b8d-dc67-4801d7e2b3fb"
      },
      "source": [
        "alt = input('Digite sua altura: ')\n",
        "alt = alt.replace(',','.')\n",
        "alt = float(alt)\n",
        "peso_ideal = (72.7 * alt) -58\n",
        "print(f'O seu peso ideal é {peso_ideal:.2f} kg')"
      ],
      "execution_count": null,
      "outputs": [
        {
          "output_type": "stream",
          "text": [
            "Digite sua altura: 1,73\n",
            "O seu peso ideal é 67.77 kg\n"
          ],
          "name": "stdout"
        }
      ]
    },
    {
      "cell_type": "markdown",
      "metadata": {
        "id": "hqo7ig2OpQAu"
      },
      "source": [
        "13. Tendo como dado de entrada a altura (h) de uma pessoa, construa um algoritmo que calcule seu peso ideal, utilizando as seguintes fórmulas:\n",
        "  a. Para homens: (72.7*h) - 58\n",
        "  b. Para mulheres: (62.1*h) - 44.7"
      ]
    },
    {
      "cell_type": "code",
      "metadata": {
        "id": "7kkT55i4pXxl",
        "colab": {
          "base_uri": "https://localhost:8080/"
        },
        "outputId": "83dc397f-5d38-4859-bac2-5e36e7ddf115"
      },
      "source": [
        "alt = input('Digite a sua altutra: ')\n",
        "alt = alt.replace(',','.')\n",
        "alt = float(alt)\n",
        "sexo = input('Digite H para homens ou M para mulheres: ')\n",
        "\n",
        "if sexo == 'H':\n",
        "  peso_ideal = (72.7 * alt) - 58\n",
        "else:\n",
        "  peso_ideal = (62.1 * alt) - 44.7\n",
        "print(f'O seu peso ideal é {peso_ideal:.2f}')"
      ],
      "execution_count": 9,
      "outputs": [
        {
          "output_type": "stream",
          "text": [
            "Digite a sua altutra: 1,6\n",
            "Digite H para homens ou M para mulheres: H\n",
            "O seu peso ideal é 58.32\n"
          ],
          "name": "stdout"
        }
      ]
    },
    {
      "cell_type": "markdown",
      "metadata": {
        "id": "DvWh2g2UkN3k"
      },
      "source": [
        "14.João Papo-de-Pescador, homem de bem, comprou um microcomputador para controlar o rendimento diário de seu trabalho. Toda vez que ele traz um peso de peixes maior que o estabelecido pelo regulamento de pesca do estado de São Paulo (50 quilos) deve pagar uma multa de R$ 4,00 por quilo excedente. João precisa que você faça um programa que leia a variável peso (peso de peixes) e calcule o excesso. Gravar na variável excesso a quantidade de quilos além do limite e na variável multa o valor da multa que João deverá pagar. Imprima os dados do programa com as mensagens adequadas."
      ]
    },
    {
      "cell_type": "code",
      "metadata": {
        "colab": {
          "base_uri": "https://localhost:8080/"
        },
        "id": "InB9D1odkPLa",
        "outputId": "1c089c30-7e0e-4c9f-ad85-a592a9c658b2"
      },
      "source": [
        "peso = input('Digite o peso: ')\n",
        "peso = peso.replace(',','.')\n",
        "peso = float(peso)\n",
        "if peso > 50:\n",
        "  excesso = peso - 50\n",
        "  multa = float(excesso * 4)\n",
        "else:\n",
        "  excesso == 0\n",
        "  multa == 0\n",
        "print(f'O peso excedente é de {excesso:.2f} kg')\n",
        "print(f'A multa devida é de R$ {multa:.2f}')"
      ],
      "execution_count": 12,
      "outputs": [
        {
          "output_type": "stream",
          "text": [
            "Digite o peso: 52,3\n",
            "O peso excedente é de 2.30 kg\n",
            "A multa devida é de R$ 9.20\n"
          ],
          "name": "stdout"
        }
      ]
    }
  ]
}