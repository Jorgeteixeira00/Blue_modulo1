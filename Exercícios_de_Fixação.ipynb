{
  "nbformat": 4,
  "nbformat_minor": 0,
  "metadata": {
    "colab": {
      "name": "Exercícios de Fixação.ipynb",
      "provenance": [],
      "authorship_tag": "ABX9TyPxUZ0WozNtamJ1ZvfDPNPS",
      "include_colab_link": true
    },
    "kernelspec": {
      "name": "python3",
      "display_name": "Python 3"
    },
    "language_info": {
      "name": "python"
    }
  },
  "cells": [
    {
      "cell_type": "markdown",
      "metadata": {
        "id": "view-in-github",
        "colab_type": "text"
      },
      "source": [
        "<a href=\"https://colab.research.google.com/github/edumeirelles/Blue_modulo1/blob/main/Exerc%C3%ADcios_de_Fixa%C3%A7%C3%A3o.ipynb\" target=\"_parent\"><img src=\"https://colab.research.google.com/assets/colab-badge.svg\" alt=\"Open In Colab\"/></a>"
      ]
    },
    {
      "cell_type": "markdown",
      "metadata": {
        "id": "Qtt9H3_F3Q1L"
      },
      "source": [
        "Exercícios de Fixação - Aula 4"
      ]
    },
    {
      "cell_type": "markdown",
      "metadata": {
        "id": "0I4Dum283Zvk"
      },
      "source": [
        "1.Faça um Programa que mostre a mensagem \"Alo mundo\" na tela."
      ]
    },
    {
      "cell_type": "code",
      "metadata": {
        "colab": {
          "base_uri": "https://localhost:8080/"
        },
        "id": "Bl4eyMdt3MNE",
        "outputId": "babb8a3d-caf9-4230-bd3e-6afc969f3183"
      },
      "source": [
        "print(\"Olá Mundo!\")"
      ],
      "execution_count": 1,
      "outputs": [
        {
          "output_type": "stream",
          "text": [
            "Olá Mundo!\n"
          ],
          "name": "stdout"
        }
      ]
    },
    {
      "cell_type": "markdown",
      "metadata": {
        "id": "ceUO8KZm3f6Q"
      },
      "source": [
        "2. Faça um Programa que peça um número e então mostre a mensagem O número informado foi [número]."
      ]
    },
    {
      "cell_type": "code",
      "metadata": {
        "colab": {
          "base_uri": "https://localhost:8080/"
        },
        "id": "4WbC9r3R3ewo",
        "outputId": "5d8ec5bc-fa8b-4f2c-dfb8-e453d39f6fd3"
      },
      "source": [
        "num = int(input('Digite um número: '))\n",
        "print(f'O número informado foi {num}')"
      ],
      "execution_count": 3,
      "outputs": [
        {
          "output_type": "stream",
          "text": [
            "Digite um número: 20\n",
            "O número informado foi 20\n"
          ],
          "name": "stdout"
        }
      ]
    },
    {
      "cell_type": "markdown",
      "metadata": {
        "id": "kZdpY4xK4BwJ"
      },
      "source": [
        "3. Faça um Programa que peça dois números e imprima a soma."
      ]
    },
    {
      "cell_type": "code",
      "metadata": {
        "colab": {
          "base_uri": "https://localhost:8080/"
        },
        "id": "d-V6Nbj84Gv-",
        "outputId": "5d619701-769b-4426-df59-8854c3a8ace5"
      },
      "source": [
        "num1 = int(input('Digite um número: '))\n",
        "num2 = int(input('Digite outro número: '))\n",
        "soma = num1 + num2\n",
        "print(f'Soma = {soma}')"
      ],
      "execution_count": 7,
      "outputs": [
        {
          "output_type": "stream",
          "text": [
            "Digite um número: 10\n",
            "Digite outro número: 20\n",
            "Soma = 30\n"
          ],
          "name": "stdout"
        }
      ]
    },
    {
      "cell_type": "markdown",
      "metadata": {
        "id": "jNUHOtxP4v74"
      },
      "source": [
        "4. Faça um Programa que peça as 4 notas bimestrais e mostre a média."
      ]
    },
    {
      "cell_type": "code",
      "metadata": {
        "colab": {
          "base_uri": "https://localhost:8080/"
        },
        "id": "8PYslUBk4yhM",
        "outputId": "28f5e428-bc7c-4f5f-bfab-a1b780653c8b"
      },
      "source": [
        "bim1 = float(input('Digite a nota do primeiro bimestre: '))\n",
        "bim2 = float(input('Digite a nota do segundo bimestre: '))\n",
        "bim3 = float(input('Digite a nota do terceiro bimestre: '))\n",
        "bim4 = float(input('Digite a nota do quarto bimestre: '))\n",
        "media = (bim1 + bim2 + bim3 + bim4) / 4\n",
        "print(f'Média = {media:.1f}')"
      ],
      "execution_count": 10,
      "outputs": [
        {
          "output_type": "stream",
          "text": [
            "Digite a nota do primeiro bimestre: 6.2\n",
            "Digite a nota do segundo bimestre: 5.9\n",
            "Digite a nota do terceiro bimestre: 4.3\n",
            "Digite a nota do quarto bimestre: 7.3\n",
            "Média = 5.9\n"
          ],
          "name": "stdout"
        }
      ]
    },
    {
      "cell_type": "markdown",
      "metadata": {
        "id": "lKDGfVHO79LR"
      },
      "source": [
        "5. Faça um Programa que converta metros para centímetros."
      ]
    },
    {
      "cell_type": "code",
      "metadata": {
        "colab": {
          "base_uri": "https://localhost:8080/"
        },
        "id": "WwOnnLfq7-1N",
        "outputId": "1af94c4b-ed74-49f5-b547-e04e343a1136"
      },
      "source": [
        "tam_m = float(input('Digite o tamanho em metros: '))\n",
        "tam_cm = tam_m * 100\n",
        "print(f'Tamanho em centímetros: {tam_cm:.2f}')"
      ],
      "execution_count": 11,
      "outputs": [
        {
          "output_type": "stream",
          "text": [
            "Digite o tamanho em metros: 0.56\n",
            "Tamanho em centímetros: 56.00\n"
          ],
          "name": "stdout"
        }
      ]
    },
    {
      "cell_type": "markdown",
      "metadata": {
        "id": "ANChPrIW-OCe"
      },
      "source": [
        "6. Faça um Programa que peça o raio de um círculo, calcule e mostre sua área."
      ]
    },
    {
      "cell_type": "code",
      "metadata": {
        "colab": {
          "base_uri": "https://localhost:8080/"
        },
        "id": "zZqnIIcz-Uhz",
        "outputId": "d402ed92-cc94-46a4-dd3d-3d3767104179"
      },
      "source": [
        "import math\n",
        "r = float(input('Digite o raio do círculo: '))\n",
        "area = (r**2) * math.pi\n",
        "print(f'Área = {area:.2f} ')"
      ],
      "execution_count": 12,
      "outputs": [
        {
          "output_type": "stream",
          "text": [
            "Digite o raio do círculo: 50\n",
            "Área = 7853.98 \n"
          ],
          "name": "stdout"
        }
      ]
    }
  ]
}