{
  "nbformat": 4,
  "nbformat_minor": 0,
  "metadata": {
    "colab": {
      "name": "Untitled0.ipynb",
      "provenance": [],
      "authorship_tag": "ABX9TyNRgPyNfiG94Tb40oaCQ6Yf",
      "include_colab_link": true
    },
    "kernelspec": {
      "name": "python3",
      "display_name": "Python 3"
    },
    "language_info": {
      "name": "python"
    }
  },
  "cells": [
    {
      "cell_type": "markdown",
      "metadata": {
        "id": "view-in-github",
        "colab_type": "text"
      },
      "source": [
        "<a href=\"https://colab.research.google.com/github/edumeirelles/Blue_modulo1/blob/main/Aula1_Python.ipynb\" target=\"_parent\"><img src=\"https://colab.research.google.com/assets/colab-badge.svg\" alt=\"Open In Colab\"/></a>"
      ]
    },
    {
      "cell_type": "code",
      "metadata": {
        "colab": {
          "base_uri": "https://localhost:8080/"
        },
        "id": "viqlGkyxA1zr",
        "outputId": "43f7be03-8ac3-41b0-efe3-a514f03fb734"
      },
      "source": [
        "print(\"Hello World!!!\")"
      ],
      "execution_count": null,
      "outputs": [
        {
          "output_type": "stream",
          "text": [
            "Hello World!!!\n"
          ],
          "name": "stdout"
        }
      ]
    },
    {
      "cell_type": "markdown",
      "metadata": {
        "id": "SMq_nbCoG2Ea"
      },
      "source": [
        "Criando uma variável"
      ]
    },
    {
      "cell_type": "code",
      "metadata": {
        "colab": {
          "base_uri": "https://localhost:8080/"
        },
        "id": "C4TAMNnBGdn8",
        "outputId": "b3bbb8a9-a3dc-482c-9b6a-4d2f8c48c149"
      },
      "source": [
        "#armazenando variáveis\n",
        "varString = 'Isso é uma string'\n",
        "varInt = 20\n",
        "varFloat = 15.6\n",
        "print(varString)\n",
        "print(varInt)\n",
        "print(varFloat)\n",
        "\n",
        "#verificar o tipo de variável\n",
        "print(type(varString))\n",
        "print(type(varInt))\n",
        "print(type(varFloat))"
      ],
      "execution_count": null,
      "outputs": [
        {
          "output_type": "stream",
          "text": [
            "Isso é uma string\n",
            "20\n",
            "15.6\n",
            "<class 'str'>\n",
            "<class 'int'>\n",
            "<class 'float'>\n"
          ],
          "name": "stdout"
        }
      ]
    },
    {
      "cell_type": "markdown",
      "metadata": {
        "id": "aq7MJ9f2KW62"
      },
      "source": [
        "Concatenação de Strings"
      ]
    },
    {
      "cell_type": "code",
      "metadata": {
        "colab": {
          "base_uri": "https://localhost:8080/"
        },
        "id": "9kCxKSwVKVCU",
        "outputId": "f532d251-c2af-4051-d7eb-a1877dcc6aa5"
      },
      "source": [
        "texto1 = \"Isso é um texto\"\n",
        "texto2 = \"E isso também\"\n",
        "texto3 = \"Eu armazenei:\"\n",
        "texto4 = \"na variável num1\"\n",
        "num1 = 10\n",
        "num2 = 20\n",
        "\n",
        "print(texto1, texto2)\n",
        "print(texto1 + texto2)\n",
        "print(texto3, num1, texto4)\n",
        "print(num1 + num2)"
      ],
      "execution_count": null,
      "outputs": [
        {
          "output_type": "stream",
          "text": [
            "Isso é um texto E isso também\n",
            "Isso é um textoE isso também\n",
            "Eu armazenei: 10 na variável num1\n",
            "30\n"
          ],
          "name": "stdout"
        }
      ]
    },
    {
      "cell_type": "markdown",
      "metadata": {
        "id": "-JBmL0LZNKnc"
      },
      "source": [
        "Operadores em Python"
      ]
    },
    {
      "cell_type": "code",
      "metadata": {
        "colab": {
          "base_uri": "https://localhost:8080/"
        },
        "id": "gJgwFadJNKIo",
        "outputId": "739bf130-f435-4b42-c9c1-5ed7d3ded0c7"
      },
      "source": [
        "print(5 + 5)\n",
        "print(10 - 5)\n",
        "print(3 * 10)\n",
        "print(20 / 5)\n",
        "print(18 // 4)\n",
        "print(18 % 4)\n",
        "print(10 ** 3)"
      ],
      "execution_count": null,
      "outputs": [
        {
          "output_type": "stream",
          "text": [
            "10\n",
            "5\n",
            "30\n",
            "4.0\n",
            "4\n",
            "2\n",
            "1000\n"
          ],
          "name": "stdout"
        }
      ]
    },
    {
      "cell_type": "markdown",
      "metadata": {
        "id": "dnMMLguYQE7k"
      },
      "source": [
        "Operadores Relacionais"
      ]
    },
    {
      "cell_type": "code",
      "metadata": {
        "colab": {
          "base_uri": "https://localhost:8080/"
        },
        "id": "I257O1JyQCuq",
        "outputId": "70ec1260-7b3a-4f54-a709-0cd36b9de777"
      },
      "source": [
        "print(2 > 3)\n",
        "print(2 < 3)\n",
        "print(2 == 3)\n",
        "print(3 == 3)\n",
        "print(3 >= 2)\n",
        "\n",
        "var1 = 1\n",
        "var2 = 2\n",
        "var3 = 3\n",
        "var4 = \"string\"\n",
        "var5 = \"string2\"\n",
        "var6 = \"string\"\n",
        "print(var1 > var2)\n",
        "print(var1 < var2)\n",
        "print(var4 > var5)\n",
        "print(var4 == var6)"
      ],
      "execution_count": null,
      "outputs": [
        {
          "output_type": "stream",
          "text": [
            "False\n",
            "True\n",
            "False\n",
            "True\n",
            "True\n",
            "False\n",
            "True\n",
            "False\n",
            "True\n"
          ],
          "name": "stdout"
        }
      ]
    },
    {
      "cell_type": "markdown",
      "metadata": {
        "id": "BXHhCc1BSJif"
      },
      "source": [
        "Operadores Lógicos"
      ]
    },
    {
      "cell_type": "code",
      "metadata": {
        "colab": {
          "base_uri": "https://localhost:8080/"
        },
        "id": "5rIHsPPrSJNN",
        "outputId": "2bd9e1ec-636e-444d-c77f-c7da19bc13ca"
      },
      "source": [
        "print(4 > 3 and 10 > 8)\n",
        "print(4 > 3 and 10 < 8)\n",
        "print(4 >3 or 10 > 12)\n",
        "print(not 3 > 2)\n",
        "print(not 3 < 2)\n",
        "print(5 > 3 and not 3 > 2)\n",
        "print(5 > 3 and not 3 < 2)"
      ],
      "execution_count": null,
      "outputs": [
        {
          "output_type": "stream",
          "text": [
            "True\n",
            "False\n",
            "True\n",
            "False\n",
            "True\n",
            "False\n",
            "True\n"
          ],
          "name": "stdout"
        }
      ]
    },
    {
      "cell_type": "markdown",
      "metadata": {
        "id": "xgVcB6zKYRRk"
      },
      "source": [
        "Input"
      ]
    },
    {
      "cell_type": "code",
      "metadata": {
        "colab": {
          "base_uri": "https://localhost:8080/"
        },
        "id": "Fcnqk146WF4S",
        "outputId": "924ae338-30e6-4ae4-dd1d-7ce32a84db39"
      },
      "source": [
        "varInput = input('Digite um número: ')\n",
        "print(varInput)\n",
        "\n",
        "varInput1 = int(input('Digite um número: '))\n",
        "varInput2 = int(input('Digite outro número: '))\n",
        "print('Soma:', varInput1 + varInput2)"
      ],
      "execution_count": null,
      "outputs": [
        {
          "output_type": "stream",
          "text": [
            "Digite um número: 10\n",
            "10\n",
            "Digite um número: 10\n",
            "Digite outro número: 10\n",
            "Soma: 20\n"
          ],
          "name": "stdout"
        }
      ]
    }
  ]
}