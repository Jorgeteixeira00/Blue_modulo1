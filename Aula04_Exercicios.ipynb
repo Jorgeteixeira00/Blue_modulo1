{
  "nbformat": 4,
  "nbformat_minor": 0,
  "metadata": {
    "colab": {
      "name": "Aula04_Exercicios.ipynb",
      "provenance": [],
      "collapsed_sections": [],
      "include_colab_link": true
    },
    "kernelspec": {
      "name": "python3",
      "display_name": "Python 3"
    },
    "language_info": {
      "name": "python"
    }
  },
  "cells": [
    {
      "cell_type": "markdown",
      "metadata": {
        "id": "view-in-github",
        "colab_type": "text"
      },
      "source": [
        "<a href=\"https://colab.research.google.com/github/edumeirelles/Blue_modulo1/blob/main/Aula04_Exercicios.ipynb\" target=\"_parent\"><img src=\"https://colab.research.google.com/assets/colab-badge.svg\" alt=\"Open In Colab\"/></a>"
      ]
    },
    {
      "cell_type": "markdown",
      "metadata": {
        "id": "DptQTkwqN7v9"
      },
      "source": [
        "# Exercícios de Aquecimento\n",
        "\n",
        "## Exercício 01\n",
        "Elabore um programa que imprima na tela a seguinte frase `Olá Mundo! Esse é o meu primeiro programa`"
      ]
    },
    {
      "cell_type": "code",
      "metadata": {
        "id": "fu-Hvxg7OT64",
        "colab": {
          "base_uri": "https://localhost:8080/"
        },
        "outputId": "8707542e-6899-4db0-c7a4-e0c18d0a38cb"
      },
      "source": [
        "print('Olá mundo! Esse é meu primeiro programa')"
      ],
      "execution_count": null,
      "outputs": [
        {
          "output_type": "stream",
          "text": [
            "Olá mundo! Esse é meu primeiro programa\n"
          ],
          "name": "stdout"
        }
      ]
    },
    {
      "source": [
        "## Exercício 02\n",
        "Elabore um programa que escreve seu nome completo na primeira linha, seu endereço na segunda e o CEP e telefone na terceira.  \n",
        "\n",
        "**Exemplo:**\n",
        "```\n",
        "Nome: Bruno Fabri\n",
        "Endereço: Rua ABC\n",
        "CEP: 002220-010\n",
        "```"
      ],
      "cell_type": "code",
      "metadata": {
        "id": "HYnPLbl2OfuE"
      },
      "execution_count": null,
      "outputs": []
    },
    {
      "cell_type": "code",
      "metadata": {
        "id": "sUrmuOzbO5Cd",
        "colab": {
          "base_uri": "https://localhost:8080/"
        },
        "outputId": "5c3483ea-261c-4bd8-f0d1-db890a958ba6"
      },
      "source": [
        "print(\"Nome: Eduardo\")\n",
        "print(\"Endereço: Rua Visconde de Inhaúma, 251\")\n",
        "print(\"CEP: 04145-030\")\n",
        "print('Nome: Eduardo\\nEndereço: Rua Visconde de Inhaúma, 251\\nCEP: 04145-030')"
      ],
      "execution_count": null,
      "outputs": [
        {
          "output_type": "stream",
          "text": [
            "Nome: Eduardo\n",
            "Endereço: Rua Visconde de Inhaúma, 251\n",
            "CEP: 04145-030\n",
            "Nome: Eduardo\n",
            "Endereço: Rua Visconde de Inhaúma, 251\n",
            "CEP: 04145-030\n"
          ],
          "name": "stdout"
        }
      ]
    },
    {
      "cell_type": "markdown",
      "metadata": {
        "id": "5XVY0cvwP1WX"
      },
      "source": [
        "## Exercício 03\n",
        "Elabore um programa que recebe o nome de uma pessoa do terminal e mostra a seguinte mensagem: `Olá {nome}! Seja bem vindo ao fantástico mundo da programação`"
      ]
    },
    {
      "cell_type": "code",
      "metadata": {
        "id": "VDfwe6OSQM0M",
        "colab": {
          "base_uri": "https://localhost:8080/"
        },
        "outputId": "70df27db-86be-411f-b184-e1010d086659"
      },
      "source": [
        "nome = input(\"Digite o seu nome: \")\n",
        "print(\"Olá\", nome + \"! Seja bem vindo ao fantástico mundo da programação!\")\n",
        "print(\"Olá {}! Seja bem vindo ao fantástico mundo da programação!\".format(nome))\n",
        "print(f\"Olá {nome}! Seja bem vindo ao fantástico mundo da programação!\")"
      ],
      "execution_count": null,
      "outputs": [
        {
          "output_type": "stream",
          "text": [
            "Digite o seu nome: Eduardo\n",
            "Olá Eduardo! Seja bem vindo ao fantástico mundo da programação!\n",
            "Olá Eduardo! Seja bem vindo ao fantástico mundo da programação!\n",
            "Olá Eduardo! Seja bem vindo ao fantástico mundo da programação!\n"
          ],
          "name": "stdout"
        }
      ]
    },
    {
      "cell_type": "markdown",
      "metadata": {
        "id": "1Nb29agVQc3k"
      },
      "source": [
        "## Exercício 04\n",
        "Elabore um programa que recebe dois valores inteiros e mostra a soma desses valores\n",
        "\n",
        "**Exemplo:**\n",
        "\n",
        "```\n",
        "Primeiro Valor = 2\n",
        "Segundo Valor = 3\n",
        "Soma = 5\n",
        "```"
      ]
    },
    {
      "cell_type": "code",
      "metadata": {
        "id": "a6_BwVwRROmH",
        "colab": {
          "base_uri": "https://localhost:8080/"
        },
        "outputId": "479b4432-bd99-49de-9de1-35cd10790f35"
      },
      "source": [
        "valor1 = int(input('Digite um número: '))\n",
        "valor2 = int(input('Digite outro número: '))\n",
        "print('Primeiro Valor =', valor1 )\n",
        "print('Segundo Valor =', valor2)\n",
        "print('Soma =', valor1 + valor2)\n",
        "print(type(valor1))"
      ],
      "execution_count": null,
      "outputs": [
        {
          "output_type": "stream",
          "text": [
            "Digite um número: 10\n",
            "Digite outro número: 20\n",
            "Primeiro Valor = 10\n",
            "Segundo Valor = 20\n",
            "Soma = 30\n",
            "<class 'int'>\n"
          ],
          "name": "stdout"
        }
      ]
    },
    {
      "cell_type": "markdown",
      "metadata": {
        "id": "4HQxR3FTTbSr"
      },
      "source": [
        "## Exercício 05\n",
        "Elabore um programa que recebe dois valores inteiros e mostra se o primeiro valor é maior ou igual ao segundo valor\n",
        "\n",
        "**Exemplo:**\n",
        "```\n",
        "Primeiro Valor = 3\n",
        "Segundo Valor = 2\n",
        "Resultado = True\n",
        "```"
      ]
    },
    {
      "cell_type": "code",
      "metadata": {
        "id": "OXISQASdTeSW",
        "colab": {
          "base_uri": "https://localhost:8080/"
        },
        "outputId": "8aa15410-cfd7-4653-8cbb-e1d6209d2f5a"
      },
      "source": [
        "valor1 = int(input('Digite um número: '))\n",
        "valor2 = int(input('Digite outro número: '))\n",
        "print('Primeiro Valor =', valor1 )\n",
        "print('Segundo Valor =', valor2)\n",
        "print('Resultado:', valor1 >= valor2)"
      ],
      "execution_count": null,
      "outputs": [
        {
          "output_type": "stream",
          "text": [
            "Digite um número: 10\n",
            "Digite outro número: 5\n",
            "Primeiro Valor = 10\n",
            "Segundo Valor = 5\n",
            "Resultado: True\n"
          ],
          "name": "stdout"
        }
      ]
    },
    {
      "cell_type": "markdown",
      "metadata": {
        "id": "Gn8rHPn3UCnc"
      },
      "source": [
        "## Exercício 06\n",
        "Elabore um programa que recebe o seu nome, endereço e hobby e mostra cada uma das informações da seguinte forma:\n",
        "- Nome -> Letra maiúscula\n",
        "- Endereço -> Letra minúscula\n",
        "- Hobby -> Primeira letra maiúscula\n",
        "\n",
        "**Exemplo Entrada:**\n",
        "```\n",
        "Nome: bruno fabri\n",
        "Endereço: Rua ABC\n",
        "Hobby: jogar cs\n",
        "```\n",
        "\n",
        "**Exemplo Saída:**\n",
        "```\n",
        "Nome: BRUNO FABRI\n",
        "Endereço: rua abc\n",
        "Hobby: Jogar cs\n",
        "```"
      ]
    },
    {
      "cell_type": "code",
      "metadata": {
        "id": "ZIj-PGVZVVP6",
        "colab": {
          "base_uri": "https://localhost:8080/"
        },
        "outputId": "96c4866e-72c2-4b35-cd30-690d543aa6f2"
      },
      "source": [
        "nome = input('Digite o seu nome: ').upper()\n",
        "endereco = input('Digite o seu endereço: ').lower()\n",
        "hobby = input('Qual é o seu Hobby? ').capitalize()\n",
        "\n",
        "print('Nome:', nome)\n",
        "print('Endereço:', endereco)\n",
        "print('Hobby:', hobby)\n",
        "print(f\"{nome}\\n{endereco}\\n{hobby}\")"
      ],
      "execution_count": null,
      "outputs": [
        {
          "output_type": "stream",
          "text": [
            "Digite o seu nome: Eduardo\n",
            "Digite o seu endereço: Rua ABC\n",
            "Qual é o seu Hobby? xadrez\n",
            "Nome: EDUARDO\n",
            "Endereço: rua abc\n",
            "Hobby: Xadrez\n",
            "EDUARDO\n",
            "rua abc\n",
            "Xadrez\n"
          ],
          "name": "stdout"
        }
      ]
    },
    {
      "cell_type": "markdown",
      "metadata": {
        "id": "wlvmEAPQNrcL"
      },
      "source": [
        "# Mini Projetos"
      ]
    },
    {
      "cell_type": "markdown",
      "metadata": {
        "id": "W8zwueNBKh4B"
      },
      "source": [
        "## Mini Projeto 01 - Conversor de Moeda\n",
        "Vamos construir um programa que irá converter moedas do real para o dólar e do dólar para o real. Vamos considerar que `$ 1,00 = R$ 5,75`\n",
        "\n",
        "### Parte 1\n",
        "Faça o conversor de moeda receber o valor em real e mostrar o valor convertido para dólar no formato `$ XXXX.XX`\n",
        "\n",
        "**Exemplo:**\n",
        "\n",
        "```\n",
        "Valor em R$ = 1000\n",
        "Valor em $ = $ 173.91\n",
        "```\n",
        "\n",
        "### Parte 2\n",
        "Altere o conversor de moedas para receber o valor em dólar, converter para real e mostrar o resultado no formato `R$ XXXX.XX`\n",
        "\n",
        "**Exemplo:**\n",
        "```\n",
        "Valor em $ = 1000\n",
        "Valor em R$ = R$ 5750.00\n",
        "```"
      ]
    },
    {
      "cell_type": "code",
      "metadata": {
        "id": "mRQ9fpIgMp5Z",
        "colab": {
          "base_uri": "https://localhost:8080/"
        },
        "outputId": "58fb3e16-8aa0-4cde-8b9c-a90dcf15d715"
      },
      "source": [
        "valorbrl = float(input('Valor em R$: '))\n",
        "valorusd = valorbrl / 5.75\n",
        "print(f'Valor em US$: $ {valorusd:.2f}')\n",
        "\n",
        "valorusd2 = float(input('Valor em US$: '))\n",
        "valorbrl2 = valorusd2 * 5.75\n",
        "print(f'Valor em R$: R$ {valorbrl2:.2f}')"
      ],
      "execution_count": null,
      "outputs": [
        {
          "output_type": "stream",
          "text": [
            "Valor em R$: 1000\n",
            "Valor em US$: $ 173.91\n",
            "Valor em US$: 1000\n",
            "Valor em R$: R$ 5750.00\n"
          ],
          "name": "stdout"
        }
      ]
    },
    {
      "cell_type": "markdown",
      "metadata": {
        "id": "0NmAiF2DV_ju"
      },
      "source": [
        "## Mini Projeto 02 - Calculadora de aumento de aluguel\n",
        "Vamos construir um programa que irá calcular o aumento anual do seu aluguel em duas partes:\n",
        "\n",
        "### Parte 1\n",
        "A sua calculadora vai receber o `valor do aluguel` e calcular o aumento baseado no `IGPM de 31%`. A calculadora deve apresentar o aluguel reajustado no formato `R$ XXXX.XX`\n",
        "\n",
        "**Exemplo:**\n",
        "```\n",
        "Valor do aluguel = 1000\n",
        "Valor do aluguel reajustado = R$ 1310,00\n",
        "```\n",
        "\n",
        "### Parte 2\n",
        "Agora, altere sua calculadora para receber além do `valor do aluguel`, o percentual do reajuste no formato `XX%`.  \n",
        "\n",
        "**Dica:** Descubra uma forma de transformar o percentual recebido em um número para efetuar o cálculo.\n",
        "\n",
        "**Exemplo:**\n",
        "```\n",
        "Valor do aluguel = 1000\n",
        "Percentual do reajuste = 31%\n",
        "Valor do aluguel reajustado = R% 1310,00\n",
        "```"
      ]
    },
    {
      "cell_type": "code",
      "metadata": {
        "id": "0eHzSCyaGkYJ",
        "colab": {
          "base_uri": "https://localhost:8080/"
        },
        "outputId": "07848386-165f-42ca-f71e-50ac956dcd25"
      },
      "source": [
        "valoraluguel1 = float(input('Valor do aluguel: '))\n",
        "valorreajustado1 = valoraluguel1 * 1.31\n",
        "print(f'Valor do aluguel reajustado: {valorreajustado1:.2f}')\n",
        "\n",
        "valoraluguel2 = float(input('Valor do aluguel: '))\n",
        "valorreajuste = (input('Taxa reajuste:'))\n",
        "valorreajuste_numero = float(valorreajuste.replace('%' , ''))\n",
        "valorreajustado2 = valoraluguel2 * (1 + (valorreajuste_numero / 100))\n",
        "print(f'Valor do Aluguel reajustado: R$ {valorreajustado2:.2f}')\n",
        "\n",
        "valoraluguel2 = float(input('Valor do aluguel: '))\n",
        "valorreajuste = (input('Taxa reajuste:'))\n",
        "valorreajuste_numero = float(valorreajuste[:-1])\n",
        "valorreajustado2 = valoraluguel2 * (1 + (valorreajuste_numero / 100))\n",
        "print(f'Valor do Aluguel reajustado: R$ {valorreajustado2:.2f}')\n"
      ],
      "execution_count": 10,
      "outputs": [
        {
          "output_type": "stream",
          "text": [
            "Valor do aluguel: 1000\n",
            "Valor do aluguel reajustado: 1310.00\n",
            "Valor do aluguel: 1000\n",
            "Taxa reajuste:31\n",
            "Valor do Aluguel reajustado: R$ 1310.00\n",
            "Valor do aluguel: 1000\n",
            "Taxa reajuste:31%\n",
            "Valor do Aluguel reajustado: R$ 1310.00\n"
          ],
          "name": "stdout"
        }
      ]
    },
    {
      "cell_type": "markdown",
      "metadata": {
        "id": "xN88sUuMOG46"
      },
      "source": [
        "## Mini Projeto 03 - Calculadora de dano\n",
        "Vamos implementar a calculadora de dano de RPG!!\n",
        "\n",
        "### Parte 1\n",
        "O programa vai receber a `vida e um monstro (entre 10 e 50)` e o `valor do ataque do jogador por turno (entre 5 e 10)`\n",
        "\n",
        "Baseado nos valores, exiba a quantidade de turnos que o jogador irá demorar para conseguir derrotar o monstro.\n",
        "\n",
        "**Exemplo:**\n",
        "```\n",
        "Vida de um monstro (entre 10 e 50): 26\n",
        "Valor do ataque do jogador por turno (entre 5 e 10): 5\n",
        "Resultado: O jogador irá precisar de 6 turnos para derrotar o monstro.\n",
        "```\n",
        "\n",
        "### Parte 2\n",
        "Altere o programa para ao invés de receber a vida do monstro, gerar aleatoriamente um valor entre 10 e 50."
      ]
    },
    {
      "cell_type": "code",
      "metadata": {
        "id": "Mrpz9UomQH2P",
        "colab": {
          "base_uri": "https://localhost:8080/"
        },
        "outputId": "50f3a65c-4dc6-4b8e-fa5d-c2ed46b4d79a"
      },
      "source": [
        "print('Parte 1')\n",
        "vidamonstro = int(input('Vida do Monstro (entre 10 e 50): '))\n",
        "ataque = int(input('Ataque (entre 5 e 10): '))\n",
        "resultado = vidamonstro / ataque\n",
        "print(f'O mostro será derrotado em {round(resultado + 0.5)} atques')\n",
        "\n",
        "print('Parte 2')\n",
        "import random\n",
        "vidamonstro1 = random.randint(10,50)\n",
        "print('Vida do Monstro:', vidamonstro1)\n",
        "ataque1 = int(input('Ataque (entre 5 e 10): '))\n",
        "resultado1 = vidamonstro1 / ataque1\n",
        "print(f'O mostro será derrotado em {round(resultado1 + 0.5)} atques')\n",
        "#while True:\n",
        "#    try:\n",
        "#        vidamonstro = int(input('Vida do Monstro (entre 10 e 50): '))\n",
        "#        if not 10 <= vidamonstro <= 50:\n",
        "#            raise ValueError('Valor deve ser entre 10 e 50')\n",
        "#        break\n",
        "#    except ValueError as error:\n",
        "#        print(error)\n",
        "#\n",
        "#while True:\n",
        "#    try:\n",
        "#        ataque = int(input('Valor do ataque (entre 5 e 10): '))\n",
        "#        if not 5 <= ataque <= 10:\n",
        "#            raise ValueError('Valor deve ser entre 5 e 10')\n",
        "#        break\n",
        "#    except ValueError as error:\n",
        "#        print(error)\n",
        "#resultado = vidamonstro / ataque\n",
        "#print(f'O mostro será derrotado em {round(resultado + 0.5)} atques')\n",
        "\n",
        "\n"
      ],
      "execution_count": null,
      "outputs": [
        {
          "output_type": "stream",
          "text": [
            "Parte 1\n",
            "Vida do Monstro (entre 10 e 50): 35\n",
            "Ataque (entre 5 e 10): 8\n",
            "O mostro será derrotado em 5 atques\n",
            "Parte 2\n",
            "Vida do Monstro: 17\n",
            "Ataque (entre 5 e 10): 6\n",
            "O mostro será derrotado em 3 atques\n"
          ],
          "name": "stdout"
        }
      ]
    },
    {
      "cell_type": "code",
      "metadata": {
        "id": "mLXlxa2Yg9R1"
      },
      "source": [],
      "execution_count": null,
      "outputs": []
    }
  ]
}