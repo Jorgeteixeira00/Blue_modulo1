{
  "nbformat": 4,
  "nbformat_minor": 0,
  "metadata": {
    "colab": {
      "name": "Exercício - Aula5.ipynb",
      "provenance": [],
      "authorship_tag": "ABX9TyMbAHJVB3Z85bVp8daydH4J",
      "include_colab_link": true
    },
    "kernelspec": {
      "name": "python3",
      "display_name": "Python 3"
    },
    "language_info": {
      "name": "python"
    }
  },
  "cells": [
    {
      "cell_type": "markdown",
      "metadata": {
        "id": "view-in-github",
        "colab_type": "text"
      },
      "source": [
        "<a href=\"https://colab.research.google.com/github/edumeirelles/Blue_modulo1/blob/main/Exerc%C3%ADcio_Aula5.ipynb\" target=\"_parent\"><img src=\"https://colab.research.google.com/assets/colab-badge.svg\" alt=\"Open In Colab\"/></a>"
      ]
    },
    {
      "cell_type": "code",
      "metadata": {
        "colab": {
          "base_uri": "https://localhost:8080/"
        },
        "id": "OS_uJdgBpvUS",
        "outputId": "151bb512-12ae-424d-a187-3e69d690259a"
      },
      "source": [
        "num1 = int(input('Digite o primeiro número inteiro: '))\n",
        "num2 = int(input('Digite o segundo número inteiro: '))\n",
        "num3 = int(input('Digite o terceiro número inteiro: '))\n",
        "\n",
        "if num1 > num2 and num1 > num3:\n",
        "  print(f'o maior número é {num1}')\n",
        "elif num2 > num3 and num2 > num1:\n",
        "  print(f'o maior número é {num2}')\n",
        "else:\n",
        "  print(f'o maior número é {num3}')\n",
        "\n",
        "if num1 < num2 and num1 < num3:\n",
        "  print(f'o menor número é {num1}')\n",
        "elif num2 < num3 and num2 < num1:\n",
        "  print(f'o menor número é {num2}')\n",
        "else:\n",
        "  print(f'o menor número é {num3}')"
      ],
      "execution_count": 5,
      "outputs": [
        {
          "output_type": "stream",
          "text": [
            "Digite o primeiro número inteiro: 1\n",
            "Digite o segundo número inteiro: 2\n",
            "Digite o terceiro número inteiro: 3\n",
            "o maior número é 3\n",
            "o menor número é 1\n"
          ],
          "name": "stdout"
        }
      ]
    }
  ]
}